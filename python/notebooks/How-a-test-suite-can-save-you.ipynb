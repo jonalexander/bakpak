{
 "metadata": {
  "name": "",
  "signature": "sha256:2302c0c1df22dac0f92aa0e6f1109252cb1260f1530d2580d514df0cc764d2ab"
 },
 "nbformat": 3,
 "nbformat_minor": 0,
 "worksheets": [
  {
   "cells": [
    {
     "cell_type": "markdown",
     "metadata": {},
     "source": [
      "# How Testing Can Save You\n",
      "\n",
      "Sometimes, when I'm talking to someone relatively new to writing software, I find it difficult to give a concrete example of how testing can save you, even when you are doing something really simple and you think it's impossible to make a mistake.  \n",
      "\n",
      "This is a toy example I came up with that I hope makes it a little more clear how testing helps catch easy-to-make mistakes.\n",
      "\n",
      "Imagine we are designing a simple class system to represent some animals for a game we are makeing.\n",
      "\n",
      "## Version 1 of System"
     ]
    },
    {
     "cell_type": "code",
     "collapsed": false,
     "input": [
      "import unittest\n",
      "class Animal(object):\n",
      "    def __init__(self, color):\n",
      "        self.color = color\n",
      " \n",
      "    def summary(self):\n",
      "        return \"{0}: color:'{1}'\".format(self.__class__, self.color)\n",
      "\n",
      "class TestAnimal(unittest.TestCase):\n",
      "    def test_summary(self):\n",
      "        a = Animal(\"brown\")\n",
      "        s = a.summary()\n",
      "        self.assertTrue(\"brown\" in s)\n",
      "        self.assertTrue(\"Animal\" in s)\n",
      "        print(s)\n",
      "\n",
      "suite = unittest.TestLoader().loadTestsFromTestCase(TestAnimal)\n",
      "unittest.TextTestRunner().run(suite)"
     ],
     "language": "python",
     "metadata": {},
     "outputs": [
      {
       "output_type": "stream",
       "stream": "stderr",
       "text": [
        "."
       ]
      },
      {
       "output_type": "stream",
       "stream": "stdout",
       "text": [
        "<class '__main__.Animal'>: color:'brown'\n"
       ]
      },
      {
       "output_type": "stream",
       "stream": "stderr",
       "text": [
        "\n",
        "----------------------------------------------------------------------\n",
        "Ran 1 test in 0.001s\n",
        "\n",
        "OK\n"
       ]
      },
      {
       "metadata": {},
       "output_type": "pyout",
       "prompt_number": 25,
       "text": [
        "<unittest.runner.TextTestResult run=1 errors=0 failures=0>"
       ]
      }
     ],
     "prompt_number": 25
    },
    {
     "cell_type": "markdown",
     "metadata": {},
     "source": [
      "Cool, it looks like everything work just fine.\n",
      "\n",
      "As you can see, we have a simple test to make sure the `summary` property of an `Animal` contains both the class name and color of that animal.\n",
      "\n",
      "Now, let's add a `Dog`.\n",
      "\n",
      "## Version 2 of System"
     ]
    },
    {
     "cell_type": "code",
     "collapsed": false,
     "input": [
      "import unittest\n",
      "class Animal(object):\n",
      "    def __init__(self, color):\n",
      "        self.color = color\n",
      " \n",
      "    def summary(self):\n",
      "        return \"{0}: color:'{1}'\".format(self.__class__, self.color)\n",
      "\n",
      "\n",
      "class Dog(Animal):\n",
      "    # Dog will inherit the `summary` and `__init__` methods from its parent class, Animal.\n",
      "    # There's no need for us to redefine it.\n",
      "    \n",
      "    sound = \"woof!\" # all dogs say \"woof!\"\n",
      "\n",
      "class TestAnimal(unittest.TestCase):\n",
      "    def test_summary(self):\n",
      "        a = Animal(\"brown\")\n",
      "        s = a.summary()\n",
      "        self.assertTrue(\"brown\" in s)\n",
      "        self.assertTrue(\"Animal\" in s)\n",
      "        print(s)\n",
      "    \n",
      "    def test_dog(self):\n",
      "        d = Dog(\"brown\")\n",
      "        s = d.summary()\n",
      "        self.assertTrue(\"brown\" in s)\n",
      "        self.assertTrue(\"Dog\" in s)\n",
      "        print(s)\n",
      "\n",
      "suite = unittest.TestLoader().loadTestsFromTestCase(TestAnimal)\n",
      "unittest.TextTestRunner().run(suite)"
     ],
     "language": "python",
     "metadata": {},
     "outputs": [
      {
       "output_type": "stream",
       "stream": "stderr",
       "text": [
        "."
       ]
      },
      {
       "output_type": "stream",
       "stream": "stderr",
       "text": [
        "."
       ]
      },
      {
       "output_type": "stream",
       "stream": "stdout",
       "text": [
        "<class '__main__.Dog'>: color:'brown'\n",
        "<class '__main__.Animal'>: color:'brown'\n"
       ]
      },
      {
       "output_type": "stream",
       "stream": "stderr",
       "text": [
        "\n",
        "----------------------------------------------------------------------\n",
        "Ran 2 tests in 0.001s\n",
        "\n",
        "OK\n"
       ]
      },
      {
       "metadata": {},
       "output_type": "pyout",
       "prompt_number": 26,
       "text": [
        "<unittest.runner.TextTestResult run=2 errors=0 failures=0>"
       ]
      }
     ],
     "prompt_number": 26
    },
    {
     "cell_type": "markdown",
     "metadata": {},
     "source": [
      "Since `Dog` subclasses `Animal` it inherits the methods of its parent class and we don't have much work to do.\n",
      "\n",
      "We decide `Dogs` make the \"woof!\" sound, however, so we add `sound` as a class property.\n",
      "\n",
      "Just for peace of mind, we add a few tests on `Dogs` to make sure they behave as we expect, like `Animals`.\n",
      "\n",
      "The tests pass. Whew!\n",
      "\n",
      "Now, we decide that it would be more useful if the `summary` method to included both the `color` and `sound` properties, so we do a bit of refactoring.\n",
      "\n",
      "We make our changes in `Animal` since we'll want to be able to see the `color` and `sound` properties in the summary for all `Animals`, not just `Dogs`.\n",
      "\n",
      "We also add a test to verify that \"woof!\" is in the `Dog` summary."
     ]
    },
    {
     "cell_type": "code",
     "collapsed": false,
     "input": [
      "import unittest\n",
      "class Animal(object):\n",
      "    def __init__(self, color):\n",
      "        self.color = color\n",
      " \n",
      "    # We change the old `summary` to be `short_summary`\n",
      "    def short_summary(self):\n",
      "        return \"{0}: color:'{1}'\".format(self.__class__, self.color)\n",
      " \n",
      "    # We decide to update `summary` to return `sound` as well\n",
      "    def summary(self):\n",
      "        return \"{0}: color:'{1}', sound:'{2}'\".format(self.__class__, self.color, self.sound)\n",
      "\n",
      "\n",
      "class Dog(Animal):\n",
      "    # Dog will inherit the `summary` and `__init__` methods from its parent class, Animal.\n",
      "    # There's no need for us to redefine it.\n",
      "    \n",
      "    sound = \"woof!\" # all dogs say \"woof!\"\n",
      "\n",
      "class TestAnimal(unittest.TestCase):\n",
      "    def test_summary(self):\n",
      "        a = Animal(\"brown\")\n",
      "        s = a.summary()\n",
      "        self.assertTrue(\"brown\" in s)\n",
      "        self.assertTrue(\"Animal\" in s)\n",
      "        print(s)\n",
      "        ss = a.short_summary()\n",
      "        self.assertTrue(\"brown\" in ss)\n",
      "        self.assertTrue(\"Animal\" in ss)\n",
      "    \n",
      "    def test_dog(self):\n",
      "        d = Dog(\"brown\")\n",
      "        s = d.summary()\n",
      "        self.assertTrue(\"brown\" in s)\n",
      "        self.assertTrue(\"Dog\" in s)\n",
      "        self.assertTrue(\"woof!\" in s)\n",
      "        print(s)\n",
      "        ss = d.short_summary()\n",
      "        self.assertTrue(\"brown\" in ss)\n",
      "        self.assertTrue(\"Dog\" in ss)\n",
      "\n",
      "suite = unittest.TestLoader().loadTestsFromTestCase(TestAnimal)\n",
      "unittest.TextTestRunner().run(suite)"
     ],
     "language": "python",
     "metadata": {},
     "outputs": [
      {
       "output_type": "stream",
       "stream": "stderr",
       "text": [
        "."
       ]
      },
      {
       "output_type": "stream",
       "stream": "stderr",
       "text": [
        "E"
       ]
      },
      {
       "output_type": "stream",
       "stream": "stdout",
       "text": [
        "<class '__main__.Dog'>: color:'brown', sound:'woof!'\n"
       ]
      },
      {
       "output_type": "stream",
       "stream": "stderr",
       "text": [
        "\n",
        "======================================================================\n",
        "ERROR: test_summary (__main__.TestAnimal)\n",
        "----------------------------------------------------------------------\n",
        "Traceback (most recent call last):\n",
        "  File \"<ipython-input-27-b64443dfeadd>\", line 24, in test_summary\n",
        "    s = a.summary()\n",
        "  File \"<ipython-input-27-b64443dfeadd>\", line 12, in summary\n",
        "    return \"{0}: color:'{1}', sound:'{2}'\".format(self.__class__, self.color, self.sound)\n",
        "AttributeError: 'Animal' object has no attribute 'sound'\n",
        "\n",
        "----------------------------------------------------------------------\n",
        "Ran 2 tests in 0.002s\n",
        "\n",
        "FAILED (errors=1)\n"
       ]
      },
      {
       "metadata": {},
       "output_type": "pyout",
       "prompt_number": 27,
       "text": [
        "<unittest.runner.TextTestResult run=2 errors=1 failures=0>"
       ]
      }
     ],
     "prompt_number": 27
    },
    {
     "cell_type": "markdown",
     "metadata": {},
     "source": [
      "Uh-oh, what happened?\n",
      "\n",
      "One of our tests failed--specifically, `TestAnimal.test_summary`: calling `s = a.summary()` raised an `AttributeError`.\n",
      "\n",
      "Aha! Only `Dogs` have a `sound` property, so when we try to get the `sound` of an `Animal`, we got an error.\n",
      "\n",
      "Notice how this was a relatively easy mistake to make--we did not make a mistake in an algorithm we were writing, or make a typo, or even cause an error in the class whose behavior we were thinking about modifying in this version of the system.\n",
      "\n",
      "As a result, this sort of mistake is really easy to make, occurs commonly, and is a great example of why you should have a test suite watching your back."
     ]
    }
   ],
   "metadata": {}
  }
 ]
}